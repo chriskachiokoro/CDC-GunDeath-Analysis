{
 "cells": [
  {
   "cell_type": "code",
   "execution_count": 2,
   "id": "f9794804",
   "metadata": {},
   "outputs": [],
   "source": [
    "import pandas as pd\n",
    "import numpy as np \n",
    "import matplotlib.pyplot as plt\n",
    "import seaborn as sns"
   ]
  },
  {
   "cell_type": "code",
   "execution_count": 11,
   "id": "c8a624cc",
   "metadata": {},
   "outputs": [],
   "source": [
    "df = pd.read_csv(\"gun_deaths_raw.csv\")"
   ]
  },
  {
   "cell_type": "code",
   "execution_count": 12,
   "id": "7d0960ec",
   "metadata": {},
   "outputs": [
    {
     "data": {
      "text/html": [
       "<div>\n",
       "<style scoped>\n",
       "    .dataframe tbody tr th:only-of-type {\n",
       "        vertical-align: middle;\n",
       "    }\n",
       "\n",
       "    .dataframe tbody tr th {\n",
       "        vertical-align: top;\n",
       "    }\n",
       "\n",
       "    .dataframe thead th {\n",
       "        text-align: right;\n",
       "    }\n",
       "</style>\n",
       "<table border=\"1\" class=\"dataframe\">\n",
       "  <thead>\n",
       "    <tr style=\"text-align: right;\">\n",
       "      <th></th>\n",
       "      <th>year</th>\n",
       "      <th>month</th>\n",
       "      <th>intent</th>\n",
       "      <th>police</th>\n",
       "      <th>sex</th>\n",
       "      <th>age</th>\n",
       "      <th>race</th>\n",
       "      <th>place</th>\n",
       "      <th>education</th>\n",
       "    </tr>\n",
       "  </thead>\n",
       "  <tbody>\n",
       "    <tr>\n",
       "      <th>0</th>\n",
       "      <td>2012</td>\n",
       "      <td>1</td>\n",
       "      <td>Suicide</td>\n",
       "      <td>0</td>\n",
       "      <td>M</td>\n",
       "      <td>34.0</td>\n",
       "      <td>Asian/Pacific Islander</td>\n",
       "      <td>Home</td>\n",
       "      <td>BA+</td>\n",
       "    </tr>\n",
       "    <tr>\n",
       "      <th>1</th>\n",
       "      <td>2012</td>\n",
       "      <td>1</td>\n",
       "      <td>Suicide</td>\n",
       "      <td>0</td>\n",
       "      <td>F</td>\n",
       "      <td>21.0</td>\n",
       "      <td>White</td>\n",
       "      <td>Street</td>\n",
       "      <td>Some college</td>\n",
       "    </tr>\n",
       "    <tr>\n",
       "      <th>2</th>\n",
       "      <td>2012</td>\n",
       "      <td>1</td>\n",
       "      <td>Suicide</td>\n",
       "      <td>0</td>\n",
       "      <td>M</td>\n",
       "      <td>60.0</td>\n",
       "      <td>White</td>\n",
       "      <td>Other specified</td>\n",
       "      <td>BA+</td>\n",
       "    </tr>\n",
       "    <tr>\n",
       "      <th>3</th>\n",
       "      <td>2012</td>\n",
       "      <td>2</td>\n",
       "      <td>Suicide</td>\n",
       "      <td>0</td>\n",
       "      <td>M</td>\n",
       "      <td>64.0</td>\n",
       "      <td>White</td>\n",
       "      <td>Home</td>\n",
       "      <td>BA+</td>\n",
       "    </tr>\n",
       "    <tr>\n",
       "      <th>4</th>\n",
       "      <td>2012</td>\n",
       "      <td>2</td>\n",
       "      <td>Suicide</td>\n",
       "      <td>0</td>\n",
       "      <td>M</td>\n",
       "      <td>31.0</td>\n",
       "      <td>White</td>\n",
       "      <td>Other specified</td>\n",
       "      <td>HS/GED</td>\n",
       "    </tr>\n",
       "    <tr>\n",
       "      <th>...</th>\n",
       "      <td>...</td>\n",
       "      <td>...</td>\n",
       "      <td>...</td>\n",
       "      <td>...</td>\n",
       "      <td>...</td>\n",
       "      <td>...</td>\n",
       "      <td>...</td>\n",
       "      <td>...</td>\n",
       "      <td>...</td>\n",
       "    </tr>\n",
       "    <tr>\n",
       "      <th>100793</th>\n",
       "      <td>2014</td>\n",
       "      <td>12</td>\n",
       "      <td>Homicide</td>\n",
       "      <td>0</td>\n",
       "      <td>M</td>\n",
       "      <td>36.0</td>\n",
       "      <td>Black</td>\n",
       "      <td>Home</td>\n",
       "      <td>HS/GED</td>\n",
       "    </tr>\n",
       "    <tr>\n",
       "      <th>100794</th>\n",
       "      <td>2014</td>\n",
       "      <td>12</td>\n",
       "      <td>Homicide</td>\n",
       "      <td>0</td>\n",
       "      <td>M</td>\n",
       "      <td>19.0</td>\n",
       "      <td>Black</td>\n",
       "      <td>Street</td>\n",
       "      <td>HS/GED</td>\n",
       "    </tr>\n",
       "    <tr>\n",
       "      <th>100795</th>\n",
       "      <td>2014</td>\n",
       "      <td>12</td>\n",
       "      <td>Homicide</td>\n",
       "      <td>0</td>\n",
       "      <td>M</td>\n",
       "      <td>20.0</td>\n",
       "      <td>Black</td>\n",
       "      <td>Street</td>\n",
       "      <td>HS/GED</td>\n",
       "    </tr>\n",
       "    <tr>\n",
       "      <th>100796</th>\n",
       "      <td>2014</td>\n",
       "      <td>12</td>\n",
       "      <td>Homicide</td>\n",
       "      <td>0</td>\n",
       "      <td>M</td>\n",
       "      <td>22.0</td>\n",
       "      <td>Hispanic</td>\n",
       "      <td>Street</td>\n",
       "      <td>Less than HS</td>\n",
       "    </tr>\n",
       "    <tr>\n",
       "      <th>100797</th>\n",
       "      <td>2014</td>\n",
       "      <td>10</td>\n",
       "      <td>Homicide</td>\n",
       "      <td>0</td>\n",
       "      <td>M</td>\n",
       "      <td>43.0</td>\n",
       "      <td>Black</td>\n",
       "      <td>Other unspecified</td>\n",
       "      <td>HS/GED</td>\n",
       "    </tr>\n",
       "  </tbody>\n",
       "</table>\n",
       "<p>100798 rows × 9 columns</p>\n",
       "</div>"
      ],
      "text/plain": [
       "        year  month    intent  police sex   age                    race  \\\n",
       "0       2012      1   Suicide       0   M  34.0  Asian/Pacific Islander   \n",
       "1       2012      1   Suicide       0   F  21.0                   White   \n",
       "2       2012      1   Suicide       0   M  60.0                   White   \n",
       "3       2012      2   Suicide       0   M  64.0                   White   \n",
       "4       2012      2   Suicide       0   M  31.0                   White   \n",
       "...      ...    ...       ...     ...  ..   ...                     ...   \n",
       "100793  2014     12  Homicide       0   M  36.0                   Black   \n",
       "100794  2014     12  Homicide       0   M  19.0                   Black   \n",
       "100795  2014     12  Homicide       0   M  20.0                   Black   \n",
       "100796  2014     12  Homicide       0   M  22.0                Hispanic   \n",
       "100797  2014     10  Homicide       0   M  43.0                   Black   \n",
       "\n",
       "                    place     education  \n",
       "0                    Home           BA+  \n",
       "1                  Street  Some college  \n",
       "2         Other specified           BA+  \n",
       "3                    Home           BA+  \n",
       "4         Other specified        HS/GED  \n",
       "...                   ...           ...  \n",
       "100793               Home        HS/GED  \n",
       "100794             Street        HS/GED  \n",
       "100795             Street        HS/GED  \n",
       "100796             Street  Less than HS  \n",
       "100797  Other unspecified        HS/GED  \n",
       "\n",
       "[100798 rows x 9 columns]"
      ]
     },
     "execution_count": 12,
     "metadata": {},
     "output_type": "execute_result"
    }
   ],
   "source": [
    "df"
   ]
  },
  {
   "cell_type": "code",
   "execution_count": 13,
   "id": "09b59ab9",
   "metadata": {},
   "outputs": [
    {
     "data": {
      "text/plain": [
       "(100798, 9)"
      ]
     },
     "execution_count": 13,
     "metadata": {},
     "output_type": "execute_result"
    }
   ],
   "source": [
    "df.shape"
   ]
  },
  {
   "cell_type": "code",
   "execution_count": 14,
   "id": "7b12a250",
   "metadata": {},
   "outputs": [
    {
     "name": "stdout",
     "output_type": "stream",
     "text": [
      "<class 'pandas.core.frame.DataFrame'>\n",
      "RangeIndex: 100798 entries, 0 to 100797\n",
      "Data columns (total 9 columns):\n",
      " #   Column     Non-Null Count   Dtype  \n",
      "---  ------     --------------   -----  \n",
      " 0   year       100798 non-null  int64  \n",
      " 1   month      100798 non-null  int64  \n",
      " 2   intent     100797 non-null  object \n",
      " 3   police     100798 non-null  int64  \n",
      " 4   sex        100798 non-null  object \n",
      " 5   age        100780 non-null  float64\n",
      " 6   race       100798 non-null  object \n",
      " 7   place      99414 non-null   object \n",
      " 8   education  99376 non-null   object \n",
      "dtypes: float64(1), int64(3), object(5)\n",
      "memory usage: 6.9+ MB\n"
     ]
    }
   ],
   "source": [
    "df.info()"
   ]
  },
  {
   "cell_type": "code",
   "execution_count": 15,
   "id": "2ab5b93c",
   "metadata": {},
   "outputs": [
    {
     "data": {
      "image/png": "[encoded data removed]",
      "text/plain": [
       "<Figure size 640x480 with 1 Axes>"
      ]
     },
     "metadata": {},
     "output_type": "display_data"
    }
   ],
   "source": [
    "sns.heatmap(df.isnull(),cmap =\"magma\",cbar=False)\n",
    "plt.show()"
   ]
  },
  {
   "cell_type": "code",
   "execution_count": 16,
   "id": "8eab7546",
   "metadata": {},
   "outputs": [
    {
     "data": {
      "text/plain": [
       "year         0.000000\n",
       "month        0.000000\n",
       "intent       0.000992\n",
       "police       0.000000\n",
       "sex          0.000000\n",
       "age          0.017857\n",
       "race         0.000000\n",
       "place        1.373043\n",
       "education    1.410742\n",
       "dtype: float64"
      ]
     },
     "execution_count": 16,
     "metadata": {},
     "output_type": "execute_result"
    }
   ],
   "source": [
    "percent_missing = df.isnull().sum()*100/len(df)\n",
    "percent_missing"
   ]
  },
  {
   "cell_type": "code",
   "execution_count": 17,
   "id": "ac33d736",
   "metadata": {},
   "outputs": [
    {
     "name": "stdout",
     "output_type": "stream",
     "text": [
      "<class 'pandas.core.frame.DataFrame'>\n",
      "RangeIndex: 100798 entries, 0 to 100797\n",
      "Data columns (total 9 columns):\n",
      " #   Column     Non-Null Count   Dtype  \n",
      "---  ------     --------------   -----  \n",
      " 0   year       100798 non-null  int64  \n",
      " 1   month      100798 non-null  int64  \n",
      " 2   intent     100797 non-null  object \n",
      " 3   police     100798 non-null  int64  \n",
      " 4   sex        100798 non-null  object \n",
      " 5   age        100780 non-null  float64\n",
      " 6   race       100798 non-null  object \n",
      " 7   place      99414 non-null   object \n",
      " 8   education  99376 non-null   object \n",
      "dtypes: float64(1), int64(3), object(5)\n",
      "memory usage: 6.9+ MB\n"
     ]
    }
   ],
   "source": [
    "df.info()"
   ]
  },
  {
   "cell_type": "code",
   "execution_count": 18,
   "id": "edd88b01",
   "metadata": {},
   "outputs": [
    {
     "name": "stdout",
     "output_type": "stream",
     "text": [
      "<class 'pandas.core.frame.DataFrame'>\n",
      "Int64Index: 98015 entries, 0 to 100797\n",
      "Data columns (total 9 columns):\n",
      " #   Column     Non-Null Count  Dtype  \n",
      "---  ------     --------------  -----  \n",
      " 0   year       98015 non-null  int64  \n",
      " 1   month      98015 non-null  int64  \n",
      " 2   intent     98015 non-null  object \n",
      " 3   police     98015 non-null  int64  \n",
      " 4   sex        98015 non-null  object \n",
      " 5   age        98015 non-null  float64\n",
      " 6   race       98015 non-null  object \n",
      " 7   place      98015 non-null  object \n",
      " 8   education  98015 non-null  object \n",
      "dtypes: float64(1), int64(3), object(5)\n",
      "memory usage: 7.5+ MB\n"
     ]
    }
   ],
   "source": [
    "df1 = df.dropna(axis=0)\n",
    "df1.info()"
   ]
  },
  {
   "cell_type": "code",
   "execution_count": 19,
   "id": "5c971af2",
   "metadata": {},
   "outputs": [
    {
     "data": {
      "text/plain": [
       "year         0.0\n",
       "month        0.0\n",
       "intent       0.0\n",
       "police       0.0\n",
       "sex          0.0\n",
       "age          0.0\n",
       "race         0.0\n",
       "place        0.0\n",
       "education    0.0\n",
       "dtype: float64"
      ]
     },
     "execution_count": 19,
     "metadata": {},
     "output_type": "execute_result"
    }
   ],
   "source": [
    "percent_missing2 = df1.isnull().sum()*100/len(df)\n",
    "percent_missing2"
   ]
  },
  {
   "cell_type": "code",
   "execution_count": 20,
   "id": "d303aa79",
   "metadata": {},
   "outputs": [
    {
     "data": {
      "image/png": "[encoded data removed]",
      "text/plain": [
       "<Figure size 640x480 with 1 Axes>"
      ]
     },
     "metadata": {},
     "output_type": "display_data"
    }
   ],
   "source": [
    "sns.heatmap(df1.isnull(),cmap =\"magma\",cbar=False)\n",
    "plt.show()"
   ]
  },
  {
   "cell_type": "code",
   "execution_count": 37,
   "id": "1693cbc7",
   "metadata": {},
   "outputs": [],
   "source": [
    "df1.to_csv(\"gun_deaths.csv\")"
   ]
  },
  {
   "cell_type": "code",
   "execution_count": 23,
   "id": "e6a8a93d",
   "metadata": {},
   "outputs": [
    {
     "data": {
      "text/html": [
       "<div>\n",
       "<style scoped>\n",
       "    .dataframe tbody tr th:only-of-type {\n",
       "        vertical-align: middle;\n",
       "    }\n",
       "\n",
       "    .dataframe tbody tr th {\n",
       "        vertical-align: top;\n",
       "    }\n",
       "\n",
       "    .dataframe thead th {\n",
       "        text-align: right;\n",
       "    }\n",
       "</style>\n",
       "<table border=\"1\" class=\"dataframe\">\n",
       "  <thead>\n",
       "    <tr style=\"text-align: right;\">\n",
       "      <th></th>\n",
       "      <th>year</th>\n",
       "      <th>month</th>\n",
       "      <th>police</th>\n",
       "      <th>age</th>\n",
       "    </tr>\n",
       "  </thead>\n",
       "  <tbody>\n",
       "    <tr>\n",
       "      <th>year</th>\n",
       "      <td>1.000000</td>\n",
       "      <td>0.006479</td>\n",
       "      <td>-0.001806</td>\n",
       "      <td>0.015747</td>\n",
       "    </tr>\n",
       "    <tr>\n",
       "      <th>month</th>\n",
       "      <td>0.006479</td>\n",
       "      <td>1.000000</td>\n",
       "      <td>0.003057</td>\n",
       "      <td>-0.008375</td>\n",
       "    </tr>\n",
       "    <tr>\n",
       "      <th>police</th>\n",
       "      <td>-0.001806</td>\n",
       "      <td>0.003057</td>\n",
       "      <td>1.000000</td>\n",
       "      <td>-0.005710</td>\n",
       "    </tr>\n",
       "    <tr>\n",
       "      <th>age</th>\n",
       "      <td>0.015747</td>\n",
       "      <td>-0.008375</td>\n",
       "      <td>-0.005710</td>\n",
       "      <td>1.000000</td>\n",
       "    </tr>\n",
       "  </tbody>\n",
       "</table>\n",
       "</div>"
      ],
      "text/plain": [
       "            year     month    police       age\n",
       "year    1.000000  0.006479 -0.001806  0.015747\n",
       "month   0.006479  1.000000  0.003057 -0.008375\n",
       "police -0.001806  0.003057  1.000000 -0.005710\n",
       "age     0.015747 -0.008375 -0.005710  1.000000"
      ]
     },
     "execution_count": 23,
     "metadata": {},
     "output_type": "execute_result"
    }
   ],
   "source": [
    "df1.corr()"
   ]
  },
  {
   "cell_type": "code",
   "execution_count": null,
   "id": "aae58eff",
   "metadata": {},
   "outputs": [],
   "source": []
  }
 ],
 "metadata": {
  "kernelspec": {
   "display_name": "Python 3 (ipykernel)",
   "language": "python",
   "name": "python3"
  },
  "language_info": {
   "codemirror_mode": {
    "name": "ipython",
    "version": 3
   },
   "file_extension": ".py",
   "mimetype": "text/x-python",
   "name": "python",
   "nbconvert_exporter": "python",
   "pygments_lexer": "ipython3",
   "version": "3.9.13"
  }
 },
 "nbformat": 4,
 "nbformat_minor": 5
}
